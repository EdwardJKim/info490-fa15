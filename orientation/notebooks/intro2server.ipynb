{
 "cells": [
  {
   "cell_type": "markdown",
   "metadata": {},
   "source": [
    "<DIV ALIGN=CENTER>\n",
    "\n",
    "# Foundations of Data Science\n",
    "## University of Illinois\n",
    "\n",
    "</DIV>  \n",
    "-----\n",
    "-----"
   ]
  },
  {
   "cell_type": "markdown",
   "metadata": {},
   "source": [
    "## Introduction\n",
    "\n",
    "### Professor: [Robert J. Brunner](http://www.astro.illinois.edu/people/bigdog)  \n",
    "### ![University Picture of Professor Brunner](http://lcdm.astro.illinois.edu/images/bigdog.png)\n",
    "\n",
    "### Teaching Assistants: \n",
    "- Edward J. Kim (Lead)\n",
    "- Avinash Balakrishnan \n",
    "- Samantha Thrusha\n",
    "\n",
    "-----"
   ]
  },
  {
   "cell_type": "markdown",
   "metadata": {},
   "source": [
    "-----\n",
    "\n",
    "## Course Setup\n",
    "\n",
    "In this course, we will use a [JupyterHub Server][1] running in a\n",
    "private cloud to enable dynamic interactions with the course material.\n",
    "If you desire, you can run this JupyterHub server on your own computer,\n",
    "instructions are provided in the [Alternate Setup](alternate.ipynb)\n",
    "Notebook, however, at this point we will not be able to support these\n",
    "alternative methods.\n",
    "\n",
    "The authentication mechanism we will use for the JupyterHub Server is\n",
    "your github credentials. You can simply use your existing github\n",
    "credentials if you already have a github account. If not, you can sign\n",
    "up for a free [github account](http://github.com) and use your new\n",
    "credentials for this course. \n",
    "\n",
    "![Github Signup](images/github-website.png)\n",
    "\n",
    "Once you have your github credentials, you can access the course\n",
    "[JupyterHub server](http://rpds.cloudapp.net/). \n",
    "\n",
    "![Cloud Server](images/cloud-server.png)\n",
    "\n",
    "In order to be able to successfully authenticate, you will need to share\n",
    "your github username with the instructional assistant, Edward Kim. Once\n",
    "we have added you to the list of approved users, you will be able to\n",
    "properly authenticate, which will involve allowing our JupyterHub Server\n",
    "to access your github credentials.\n",
    "\n",
    "![Cloud Authenticate](images/cloud-auth.png)\n",
    "\n",
    "After successfully authenticating, you will be given the option to start\n",
    "your server. To do this, simply click the _My Server_ button.\n",
    "\n",
    "![Server Start](images/server-start.png)\n",
    "\n",
    "After starting your server, you will be shown the directory contents of\n",
    "your running server. By default, you will have access to the course\n",
    "notebooks (and possibly a read only copy of the notebooks).\n",
    "\n",
    "![Server Run](images/server-run.png)\n",
    "\n",
    "From this screen you can click on folders to navigate the directory tree,\n",
    "select notebooks to run, or click on the _New_ menu tool in order to\n",
    "start a command line terminal where you will be able to run Unix\n",
    "commands.\n",
    "\n",
    "![Server Terminal](images/server-terminal.png)\n",
    "\n",
    "You can also explore our [short primer][3] on Github and the git source\n",
    "code versioning software, and also learn more about how we use the\n",
    "[Docker][4] virtualization software to provide a complete learning\n",
    "environment.\n",
    "\n",
    "----\n",
    "[1]: https://github.com/jupyter/jupyterhub\n",
    "[2]: alternate.ipynb\n",
    "[3]: intro2github.ipynb\n",
    "[4]: extra/virtualization.ipynb"
   ]
  },
  {
   "cell_type": "code",
   "execution_count": null,
   "metadata": {
    "collapsed": true
   },
   "outputs": [],
   "source": []
  }
 ],
 "metadata": {
  "kernelspec": {
   "display_name": "Python 3",
   "language": "python",
   "name": "python3"
  },
  "language_info": {
   "codemirror_mode": {
    "name": "ipython",
    "version": 3
   },
   "file_extension": ".py",
   "mimetype": "text/x-python",
   "name": "python",
   "nbconvert_exporter": "python",
   "pygments_lexer": "ipython3",
   "version": "3.4.0"
  }
 },
 "nbformat": 4,
 "nbformat_minor": 0
}
